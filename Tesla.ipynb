{
 "cells": [
  {
   "cell_type": "code",
   "execution_count": 3,
   "metadata": {},
   "outputs": [],
   "source": [
    "import urllib3\n",
    "import json\n",
    "import pandas as pd\n",
    "import os\n",
    "from dotenv import load_dotenv"
   ]
  },
  {
   "cell_type": "code",
   "execution_count": 4,
   "metadata": {},
   "outputs": [
    {
     "name": "stdout",
     "output_type": "stream",
     "text": [
      "{'close': 275.33, 'high': 284.5, 'low': 272.82, 'open': 283.09, 'priceDate': '2022-09-23', 'symbol': 'TSLA', 'volume': 63748362, 'id': 'HISTORICAL_PRICES', 'key': 'TSLA', 'subkey': '', 'date': '2022-09-23', 'updated': 1663986762000, 'changeOverTime': -0.045947538029730735, 'marketChangeOverTime': -0.045947538029730735, 'uOpen': 283.09, 'uClose': 275.33, 'uHigh': 284.5, 'uLow': 272.82, 'uVolume': 63748362, 'fOpen': 283.09, 'fClose': 275.33, 'fHigh': 284.5, 'fLow': 272.82, 'fVolume': 63748362, 'label': 'Sep 23, 22', 'change': -13.259999999999991, 'changePercent': -0.0459}\n"
     ]
    },
    {
     "data": {
      "text/plain": [
       "{'close': 275.33,\n",
       " 'high': 284.5,\n",
       " 'low': 272.82,\n",
       " 'open': 283.09,\n",
       " 'priceDate': '2022-09-23',\n",
       " 'symbol': 'TSLA',\n",
       " 'volume': 63748362,\n",
       " 'id': 'HISTORICAL_PRICES',\n",
       " 'key': 'TSLA',\n",
       " 'subkey': '',\n",
       " 'date': '2022-09-23',\n",
       " 'updated': 1663986762000,\n",
       " 'changeOverTime': -0.045947538029730735,\n",
       " 'marketChangeOverTime': -0.045947538029730735,\n",
       " 'uOpen': 283.09,\n",
       " 'uClose': 275.33,\n",
       " 'uHigh': 284.5,\n",
       " 'uLow': 272.82,\n",
       " 'uVolume': 63748362,\n",
       " 'fOpen': 283.09,\n",
       " 'fClose': 275.33,\n",
       " 'fHigh': 284.5,\n",
       " 'fLow': 272.82,\n",
       " 'fVolume': 63748362,\n",
       " 'label': 'Sep 23, 22',\n",
       " 'change': -13.259999999999991,\n",
       " 'changePercent': -0.0459}"
      ]
     },
     "execution_count": 4,
     "metadata": {},
     "output_type": "execute_result"
    }
   ],
   "source": [
    "load_dotenv()\n",
    "\n",
    "API_KEY = os.getenv('Stock_key')\n",
    "\n",
    "def get_data():\n",
    "    http = urllib3.PoolManager()\n",
    "    url = f\"https://cloud.iexapis.com/stable/stock/tsla/previous?token={API_KEY}\"\n",
    "    resp = http.request(\"GET\", url)\n",
    "    values = json.loads(resp.data)\n",
    "    print(values)\n",
    "    return values\n",
    "\n",
    "get_data()"
   ]
  },
  {
   "cell_type": "code",
   "execution_count": null,
   "metadata": {},
   "outputs": [],
   "source": []
  }
 ],
 "metadata": {
  "kernelspec": {
   "display_name": "Python 3.8.13 ('StockPredicting')",
   "language": "python",
   "name": "python3"
  },
  "language_info": {
   "codemirror_mode": {
    "name": "ipython",
    "version": 3
   },
   "file_extension": ".py",
   "mimetype": "text/x-python",
   "name": "python",
   "nbconvert_exporter": "python",
   "pygments_lexer": "ipython3",
   "version": "3.8.13"
  },
  "orig_nbformat": 4,
  "vscode": {
   "interpreter": {
    "hash": "b401c54e42f03e04c3e8f246e11e8c781a3e8d8b3be67813650ff8c95d9b1239"
   }
  }
 },
 "nbformat": 4,
 "nbformat_minor": 2
}
